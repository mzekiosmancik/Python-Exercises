{
 "cells": [
  {
   "cell_type": "code",
   "execution_count": 9,
   "metadata": {},
   "outputs": [
    {
     "name": "stdout",
     "output_type": "stream",
     "text": [
      "PYHTON FOR BEGINNERS\n",
      "pyhton for beginners\n",
      "1\n",
      "7\n",
      "Pyhton 4 Beginners\n",
      "0\n",
      "True\n"
     ]
    }
   ],
   "source": [
    "course = 'Pyhton for Beginners'\n",
    "print(course.upper())\n",
    "print(course.lower())\n",
    "print(course.find('y'))\n",
    "print(course.find('for'))\n",
    "print(course.replace('for', '4'))\n",
    "print(course.find('Pyhton'))\n",
    "print('Pyhton' in course)"
   ]
  }
 ],
 "metadata": {
  "kernelspec": {
   "display_name": "Python 3",
   "language": "python",
   "name": "python3"
  },
  "language_info": {
   "codemirror_mode": {
    "name": "ipython",
    "version": 3
   },
   "file_extension": ".py",
   "mimetype": "text/x-python",
   "name": "python",
   "nbconvert_exporter": "python",
   "pygments_lexer": "ipython3",
   "version": "3.12.1"
  }
 },
 "nbformat": 4,
 "nbformat_minor": 2
}
