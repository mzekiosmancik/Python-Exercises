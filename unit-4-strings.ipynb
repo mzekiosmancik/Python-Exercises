{
 "cells": [
  {
   "cell_type": "code",
   "execution_count": 11,
   "metadata": {},
   "outputs": [
    {
     "name": "stdout",
     "output_type": "stream",
     "text": [
      "PYHTON FOR BEGINNERS\n",
      "pyhton for beginners\n",
      "1\n",
      "7\n",
      "Pyhton 4 Beginners\n",
      "0\n",
      "True\n"
     ]
    }
   ],
   "source": [
    "#String Methods \n",
    "course = 'Pyhton for Beginners'\n",
    "print(course.upper())               #uppercase all string\n",
    "print(course.lower())               #lowercase all string\n",
    "print(course.find('y'))             #finds the char in string and returns index number\n",
    "print(course.find('for'))           #finds the word in string and return index number \n",
    "print(course.replace('for', '4'))   #finds and replace word or char in string\n",
    "print(course.find('Pyhton'))        #finds word in string\n",
    "print('Pyhton' in course)           #finds word in string"
   ]
  }
 ],
 "metadata": {
  "kernelspec": {
   "display_name": "Python 3",
   "language": "python",
   "name": "python3"
  },
  "language_info": {
   "codemirror_mode": {
    "name": "ipython",
    "version": 3
   },
   "file_extension": ".py",
   "mimetype": "text/x-python",
   "name": "python",
   "nbconvert_exporter": "python",
   "pygments_lexer": "ipython3",
   "version": "3.12.1"
  }
 },
 "nbformat": 4,
 "nbformat_minor": 2
}
