{
 "cells": [
  {
   "cell_type": "code",
   "execution_count": 1,
   "metadata": {},
   "outputs": [
    {
     "name": "stdout",
     "output_type": "stream",
     "text": [
      "It's a hot day\n"
     ]
    }
   ],
   "source": [
    "#if statement\n",
    "temperature = 35\n",
    "\n",
    "if temperature > 30 :\n",
    "    print(\"It's a hot day\")\n"
   ]
  },
  {
   "cell_type": "code",
   "execution_count": 9,
   "metadata": {},
   "outputs": [
    {
     "name": "stdout",
     "output_type": "stream",
     "text": [
      "Done\n"
     ]
    }
   ],
   "source": [
    "#if statement with a bracet \n",
    "temperature = 25\n",
    "\n",
    "if temperature > 30 : {\n",
    "    print(\"It's a hot day\")\n",
    "}\n",
    "\n",
    "print(\"Done\")"
   ]
  },
  {
   "cell_type": "code",
   "execution_count": 8,
   "metadata": {},
   "outputs": [
    {
     "name": "stdout",
     "output_type": "stream",
     "text": [
      "It's a good day\n",
      "Done\n"
     ]
    }
   ],
   "source": [
    "#if statement with else if (elif) and else cases \n",
    "temperature = 25\n",
    "\n",
    "if temperature > 30 : \n",
    "    print(\"It's a hot day\")\n",
    "\n",
    "elif temperature > 20 :\n",
    "    print(\"It's a good day\")\n",
    "\n",
    "elif temperature > 10 : \n",
    "    print(\"It's a cold day\")\n",
    "\n",
    "else :\n",
    "    print(\"It's really cold\")\n",
    "\n",
    "print(\"Done\")"
   ]
  }
 ],
 "metadata": {
  "kernelspec": {
   "display_name": "Python 3",
   "language": "python",
   "name": "python3"
  },
  "language_info": {
   "codemirror_mode": {
    "name": "ipython",
    "version": 3
   },
   "file_extension": ".py",
   "mimetype": "text/x-python",
   "name": "python",
   "nbconvert_exporter": "python",
   "pygments_lexer": "ipython3",
   "version": "3.12.1"
  }
 },
 "nbformat": 4,
 "nbformat_minor": 2
}
