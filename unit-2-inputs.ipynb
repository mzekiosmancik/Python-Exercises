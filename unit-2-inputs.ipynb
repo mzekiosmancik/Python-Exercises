{
 "cells": [
  {
   "cell_type": "code",
   "execution_count": 2,
   "metadata": {},
   "outputs": [
    {
     "name": "stdout",
     "output_type": "stream",
     "text": [
      "Hi mezo\n"
     ]
    }
   ],
   "source": [
    "# get your name as input and greet :)\n",
    "name = input('What is your name? ')\n",
    "print('Hi ' + name)\n"
   ]
  },
  {
   "cell_type": "code",
   "execution_count": 3,
   "metadata": {},
   "outputs": [
    {
     "name": "stdout",
     "output_type": "stream",
     "text": [
      "Hi mezo likes black\n"
     ]
    }
   ],
   "source": [
    "# Get 2 inputs and print both\n",
    "name = input('What is your name? ')\n",
    "color = input('What is your favorite color? ')\n",
    "print('Hi ' + name + ' likes ' + color)"
   ]
  },
  {
   "cell_type": "code",
   "execution_count": 5,
   "metadata": {},
   "outputs": [
    {
     "name": "stdout",
     "output_type": "stream",
     "text": [
      "38\n"
     ]
    }
   ],
   "source": [
    "#Calculate your age \n",
    "birth_year = input('Birth Year :')\n",
    "age = 2023 - int(birth_year)\n",
    "print(age)"
   ]
  }
 ],
 "metadata": {
  "kernelspec": {
   "display_name": "Python 3",
   "language": "python",
   "name": "python3"
  },
  "language_info": {
   "codemirror_mode": {
    "name": "ipython",
    "version": 3
   },
   "file_extension": ".py",
   "mimetype": "text/x-python",
   "name": "python",
   "nbconvert_exporter": "python",
   "pygments_lexer": "ipython3",
   "version": "3.11.2"
  },
  "orig_nbformat": 4
 },
 "nbformat": 4,
 "nbformat_minor": 2
}
