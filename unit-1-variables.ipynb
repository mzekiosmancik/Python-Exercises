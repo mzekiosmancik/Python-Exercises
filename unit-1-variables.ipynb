{
 "cells": [
  {
   "cell_type": "code",
   "execution_count": 19,
   "metadata": {},
   "outputs": [
    {
     "name": "stdout",
     "output_type": "stream",
     "text": [
      "Hello World\n"
     ]
    }
   ],
   "source": [
    "# print code\n",
    "print ('Hello World')"
   ]
  },
  {
   "cell_type": "code",
   "execution_count": 20,
   "metadata": {},
   "outputs": [],
   "source": [
    "#Data Types\n",
    "x = \"Hello World\"\t                            #str\n",
    "x = 20\t                                        #int\t\n",
    "x = 20.5\t                                    #float\t\n",
    "x = 1j\t                                        #complex\t\n",
    "x = [\"apple\", \"banana\", \"cherry\"]\t            #list\t\n",
    "x = (\"apple\", \"banana\", \"cherry\")\t            #tuple\t\n",
    "x = range(6)\t                                #range\t\n",
    "x = {\"name\" : \"John\", \"age\" : 36}\t            #dict\t\n",
    "x = {\"apple\", \"banana\", \"cherry\"}\t            #set\t\n",
    "x = frozenset({\"apple\", \"banana\", \"cherry\"})\t#frozenset\t\n",
    "x = True\t                                    #bool\t\n",
    "x = b\"Hello\"\t                                #bytes\t\n",
    "x = bytearray(5)\t                            #bytearray\t\n",
    "x = memoryview(bytes(5))\t                    #memoryview\t\n",
    "x = None                                        #NoneType"
   ]
  },
  {
   "cell_type": "code",
   "execution_count": 18,
   "metadata": {},
   "outputs": [],
   "source": [
    "# Setting the Specific Data Type\n",
    "x = str(\"Hello World\")\t                        #str\t\n",
    "x = int(20)\t                                    #int\t\n",
    "x = float(20.5)\t                                #float\t\n",
    "x = complex(1j)\t                                #complex\t\n",
    "x = list((\"apple\", \"banana\", \"cherry\"))\t        #list\t\n",
    "x = tuple((\"apple\", \"banana\", \"cherry\"))\t    #tuple\t\n",
    "x = range(6)\t                                #range\t\n",
    "x = dict(name=\"John\", age=36)\t                #dict\t\n",
    "x = set((\"apple\", \"banana\", \"cherry\"))\t        #set\t\n",
    "x = frozenset((\"apple\", \"banana\", \"cherry\"))\t#frozenset\t\n",
    "x = bool(5)\t                                    #bool\t\n",
    "x = bytes(5)\t                                #bytes\t\n",
    "x = bytearray(5)\t                            #bytearray\t\n",
    "x = memoryview(bytes(5))                        #memoryview"
   ]
  },
  {
   "cell_type": "code",
   "execution_count": 5,
   "metadata": {},
   "outputs": [
    {
     "name": "stdout",
     "output_type": "stream",
     "text": [
      "10\n",
      "11\n"
     ]
    }
   ],
   "source": [
    "# variable doesn't need to have a type\n",
    "number = 10\n",
    "print(number)\n",
    "number = number + 1 \n",
    "print(number)"
   ]
  },
  {
   "cell_type": "code",
   "execution_count": 2,
   "metadata": {},
   "outputs": [],
   "source": [
    "# When we need to save someone to our system we can get the information like this\n",
    "name = 'John Smith'\n",
    "age = 20 \n",
    "is_new =True"
   ]
  },
  {
   "cell_type": "code",
   "execution_count": 6,
   "metadata": {},
   "outputs": [
    {
     "name": "stdout",
     "output_type": "stream",
     "text": [
      "10.49\n"
     ]
    }
   ],
   "source": [
    "# Calculating % value of rating and price :)\n",
    "price = 10 \n",
    "rating = 4.9 \n",
    "name = 'Mezo'\n",
    "is_published = True\n",
    "percentage = price * rating /100\n",
    "print (price + percentage)"
   ]
  }
 ],
 "metadata": {
  "kernelspec": {
   "display_name": "Python 3",
   "language": "python",
   "name": "python3"
  },
  "language_info": {
   "codemirror_mode": {
    "name": "ipython",
    "version": 3
   },
   "file_extension": ".py",
   "mimetype": "text/x-python",
   "name": "python",
   "nbconvert_exporter": "python",
   "pygments_lexer": "ipython3",
   "version": "3.11.2"
  },
  "orig_nbformat": 4
 },
 "nbformat": 4,
 "nbformat_minor": 2
}
